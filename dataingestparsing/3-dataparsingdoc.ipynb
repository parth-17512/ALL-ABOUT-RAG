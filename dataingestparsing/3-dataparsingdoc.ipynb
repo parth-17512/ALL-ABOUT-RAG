{
 "cells": [
  {
   "cell_type": "markdown",
   "id": "7e7ac64f",
   "metadata": {},
   "source": [
    "### Word Document Processing"
   ]
  },
  {
   "cell_type": "code",
   "execution_count": 1,
   "id": "c90b8e33",
   "metadata": {},
   "outputs": [],
   "source": [
    "from langchain_community.document_loaders import Docx2txtLoader,UnstructuredWordDocumentLoader\n"
   ]
  },
  {
   "cell_type": "code",
   "execution_count": 2,
   "id": "62592c2a",
   "metadata": {},
   "outputs": [
    {
     "name": "stdout",
     "output_type": "stream",
     "text": [
      "1️⃣ Using Docx2txtLoader\n",
      "✅ Loaded 1 document(s)\n",
      "Content preview: Project Proposal: RAG Implementation\n",
      "\n",
      "Executive Summary\n",
      "\n",
      "This proposal outlines the implementation of a Retrieval-Augmented Generation system for our organization.\n",
      "\n",
      "Objectives\n",
      "\n",
      "Key objectives include:...\n",
      "Metadata: {'source': 'data/word_files/proposal.docx'}\n"
     ]
    }
   ],
   "source": [
    "## MEthod1: Using Docx2txtLoader\n",
    "print(\"1️⃣ Using Docx2txtLoader\")\n",
    "try:\n",
    "    docx_loader=Docx2txtLoader(\"data/word_files/proposal.docx\")\n",
    "    docs=docx_loader.load()\n",
    "    print(f\"✅ Loaded {len(docs)} document(s)\")\n",
    "    print(f\"Content preview: {docs[0].page_content[:200]}...\")\n",
    "    print(f\"Metadata: {docs[0].metadata}\")\n",
    "\n",
    "except Exception as e:\n",
    "    print(f\"Error: {e}\")"
   ]
  },
  {
   "cell_type": "code",
   "execution_count": null,
   "id": "53b5752d",
   "metadata": {},
   "outputs": [
    {
     "name": "stdout",
     "output_type": "stream",
     "text": [
      "\n",
      "2️⃣ Using UnstructuredWordDocumentLoader (Safe Mode)\n",
      "Attempting to load: d:\\ALL_ABOUT_RAG\\dataingestparsing\\data\\word_files\\proposal.docx\n",
      "File exists: True\n"
     ]
    },
    {
     "ename": "",
     "evalue": "",
     "output_type": "error",
     "traceback": [
      "\u001b[1;31mThe Kernel crashed while executing code in the current cell or a previous cell. \n",
      "\u001b[1;31mPlease review the code in the cell(s) to identify a possible cause of the failure. \n",
      "\u001b[1;31mClick <a href='https://aka.ms/vscodeJupyterKernelCrash'>here</a> for more info. \n",
      "\u001b[1;31mView Jupyter <a href='command:jupyter.viewOutput'>log</a> for further details."
     ]
    }
   ],
   "source": [
    "## MEthod2\n",
    "print(\"\\n2️⃣ Using UnstructuredWordDocumentLoader\")\n",
    "\n",
    "try:\n",
    "    unstructured_loader=UnstructuredWordDocumentLoader(\"data/word_files/proposal.docx\",mode=\"single\")\n",
    "    unstructured_docs=unstructured_loader.load()\n",
    "    \n",
    "    print(f\"✅ Loaded {len(unstructured_docs)} elements\")\n",
    "    for i, doc in enumerate(unstructured_docs[:3]):\n",
    "        print(f\"\\nElement {i+1}:\")\n",
    "        print(f\"Type: {doc.metadata.get('category', 'unknown')}\")\n",
    "        print(f\"Content: {doc.page_content[:100]}...\")\n",
    "\n",
    "\n",
    "except Exception as e:\n",
    "    print(e) \n"
   ]
  },
  {
   "cell_type": "code",
   "execution_count": 4,
   "id": "41451ca9",
   "metadata": {},
   "outputs": [
    {
     "ename": "NameError",
     "evalue": "name 'unstructured_docs' is not defined",
     "output_type": "error",
     "traceback": [
      "\u001b[31m---------------------------------------------------------------------------\u001b[39m",
      "\u001b[31mNameError\u001b[39m                                 Traceback (most recent call last)",
      "\u001b[36mCell\u001b[39m\u001b[36m \u001b[39m\u001b[32mIn[4]\u001b[39m\u001b[32m, line 1\u001b[39m\n\u001b[32m----> \u001b[39m\u001b[32m1\u001b[39m \u001b[43munstructured_docs\u001b[49m\n",
      "\u001b[31mNameError\u001b[39m: name 'unstructured_docs' is not defined"
     ]
    }
   ],
   "source": [
    "unstructured_docs"
   ]
  },
  {
   "cell_type": "code",
   "execution_count": null,
   "id": "350b7a82",
   "metadata": {},
   "outputs": [],
   "source": []
  }
 ],
 "metadata": {
  "kernelspec": {
   "display_name": "ALL_ABOUT_RAG",
   "language": "python",
   "name": "python3"
  },
  "language_info": {
   "codemirror_mode": {
    "name": "ipython",
    "version": 3
   },
   "file_extension": ".py",
   "mimetype": "text/x-python",
   "name": "python",
   "nbconvert_exporter": "python",
   "pygments_lexer": "ipython3",
   "version": "3.12.7"
  }
 },
 "nbformat": 4,
 "nbformat_minor": 5
}
